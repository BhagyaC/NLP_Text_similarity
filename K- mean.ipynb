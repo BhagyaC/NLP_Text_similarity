{
 "cells": [
  {
   "cell_type": "code",
   "execution_count": 14,
   "metadata": {},
   "outputs": [],
   "source": [
    "from sklearn.feature_extraction.text import TfidfVectorizer\n",
    "from sklearn.cluster import KMeans\n",
    "import numpy as np\n",
    "import pandas as pd"
   ]
  },
  {
   "cell_type": "markdown",
   "metadata": {},
   "source": [
    "TF- IDF is a best way to represent the convert the textual document to a vector space"
   ]
  },
  {
   "cell_type": "markdown",
   "metadata": {},
   "source": [
    "The TF*IDF algorithm is used to weigh a keyword in any content and assign the importance to that keyword based on the number of times it appears in the document. More importantly, it checks how relevant the keyword is throughout the web, which is referred to as corpus.\n"
   ]
  },
  {
   "cell_type": "code",
   "execution_count": 15,
   "metadata": {},
   "outputs": [],
   "source": [
    "#document = [\"This is the most beautiful place in the world\",\"This man has more skills to show in cricket than any other game.\",\"Hi there! how was your ladakh trip last month?\",\"here was a player who had scored 200+ runs in single cricket innings in his career.\",\"I have got the opportunity to travel to Paris next year for my internship.\",\"Cricket is a team game. If you want fame for yourself, go play an individual game.\"]"
   ]
  },
  {
   "cell_type": "code",
   "execution_count": 16,
   "metadata": {},
   "outputs": [],
   "source": [
    "document = ['The sky is blue and beautiful.',\n",
    " 'Love this blue and beautiful sky!',\n",
    " 'The quick brown fox jumps over the lazy dog.',\n",
    " 'A king’s breakfast has sausages, ham, bacon, eggs, toast and beans',\n",
    " 'I love green eggs, ham, sausages and bacon!',\n",
    " 'The brown fox is quick and the blue dog is lazy!',\n",
    " 'The sky is very blue and the sky is very beautiful today',\n",
    " 'The dog is lazy but the brown fox is quick!',\n",
    " 'President greets the press in Chicago',\n",
    " 'Obama speaks in Illinois'\n",
    "]"
   ]
  },
  {
   "cell_type": "code",
   "execution_count": 17,
   "metadata": {},
   "outputs": [],
   "source": [
    "vectorizer = TfidfVectorizer(stop_words='english')\n",
    "X = vectorizer.fit_transform(document)"
   ]
  },
  {
   "cell_type": "code",
   "execution_count": 18,
   "metadata": {},
   "outputs": [
    {
     "data": {
      "text/plain": [
       "<10x27 sparse matrix of type '<class 'numpy.float64'>'\n",
       "\twith 49 stored elements in Compressed Sparse Row format>"
      ]
     },
     "execution_count": 18,
     "metadata": {},
     "output_type": "execute_result"
    }
   ],
   "source": [
    "X"
   ]
  },
  {
   "cell_type": "code",
   "execution_count": 26,
   "metadata": {},
   "outputs": [
    {
     "data": {
      "text/plain": [
       "KMeans(algorithm='auto', copy_x=True, init='k-means++', max_iter=100,\n",
       "       n_clusters=4, n_init=1, n_jobs=None, precompute_distances='auto',\n",
       "       random_state=None, tol=0.0001, verbose=0)"
      ]
     },
     "execution_count": 26,
     "metadata": {},
     "output_type": "execute_result"
    }
   ],
   "source": [
    "true_k = 4\n",
    "model = KMeans(n_clusters=true_k, init='k-means++', max_iter=100, n_init=1)\n",
    "model.fit(X)"
   ]
  },
  {
   "cell_type": "code",
   "execution_count": 27,
   "metadata": {},
   "outputs": [],
   "source": [
    "order_centroids = model.cluster_centers_.argsort()[:, ::-1]\n",
    "terms = vectorizer.get_feature_names()\n"
   ]
  },
  {
   "cell_type": "code",
   "execution_count": 28,
   "metadata": {},
   "outputs": [
    {
     "name": "stdout",
     "output_type": "stream",
     "text": [
      "Cluster 0:\n",
      "illinois\n",
      "speaks\n",
      "obama\n",
      "press\n",
      "president\n",
      "chicago\n",
      "greets\n",
      "green\n",
      "beans\n",
      "beautiful\n",
      "Cluster 1:\n",
      "quick\n",
      "brown\n",
      "dog\n",
      "lazy\n",
      "fox\n",
      "jumps\n",
      "blue\n",
      "today\n",
      "greets\n",
      "beans\n",
      "Cluster 2:\n",
      "bacon\n",
      "sausages\n",
      "eggs\n",
      "ham\n",
      "green\n",
      "love\n",
      "beans\n",
      "breakfast\n",
      "king\n",
      "toast\n",
      "Cluster 3:\n",
      "sky\n",
      "beautiful\n",
      "blue\n",
      "love\n",
      "today\n",
      "greets\n",
      "beans\n",
      "breakfast\n",
      "brown\n",
      "chicago\n"
     ]
    }
   ],
   "source": [
    "for i in range(true_k):\n",
    "    print(\"Cluster %d:\" % i),\n",
    "    for ind in order_centroids[i, :10]:\n",
    "        print( \"%s\" % terms[ind])"
   ]
  },
  {
   "cell_type": "code",
   "execution_count": 23,
   "metadata": {},
   "outputs": [
    {
     "data": {
      "text/plain": [
       "array([[16,  5,  7, 21,  9,  0, 22,  8, 12, 13, 24, 18, 14, 20,  6, 11,\n",
       "        19, 10, 17, 15, 25,  4,  1,  3, 23,  2, 26],\n",
       "       [23,  2,  3, 17, 26, 11,  1,  4,  5,  6,  7,  8,  9, 10, 13, 12,\n",
       "        25, 14, 15, 16, 18, 19, 20, 21, 22, 24,  0]])"
      ]
     },
     "execution_count": 23,
     "metadata": {},
     "output_type": "execute_result"
    }
   ],
   "source": [
    "order_centroids"
   ]
  },
  {
   "cell_type": "code",
   "execution_count": 25,
   "metadata": {},
   "outputs": [
    {
     "data": {
      "text/plain": [
       "['bacon',\n",
       " 'beans',\n",
       " 'beautiful',\n",
       " 'blue',\n",
       " 'breakfast',\n",
       " 'brown',\n",
       " 'chicago',\n",
       " 'dog',\n",
       " 'eggs',\n",
       " 'fox',\n",
       " 'green',\n",
       " 'greets',\n",
       " 'ham',\n",
       " 'illinois',\n",
       " 'jumps',\n",
       " 'king',\n",
       " 'lazy',\n",
       " 'love',\n",
       " 'obama',\n",
       " 'president',\n",
       " 'press',\n",
       " 'quick',\n",
       " 'sausages',\n",
       " 'sky',\n",
       " 'speaks',\n",
       " 'toast',\n",
       " 'today']"
      ]
     },
     "execution_count": 25,
     "metadata": {},
     "output_type": "execute_result"
    }
   ],
   "source": [
    "terms"
   ]
  },
  {
   "cell_type": "code",
   "execution_count": null,
   "metadata": {},
   "outputs": [],
   "source": [
    "print(“\\n”)\n",
    "print(“Prediction”)\n",
    "X = vectorizer.transform([“Nothing is easy in cricket. Maybe when you watch it on TV, it looks easy. But it is not. You have to use your brain and time the ball.”])\n",
    "predicted = model.predict(X)\n",
    "print(predicted)"
   ]
  },
  {
   "cell_type": "code",
   "execution_count": null,
   "metadata": {},
   "outputs": [],
   "source": []
  },
  {
   "cell_type": "code",
   "execution_count": null,
   "metadata": {},
   "outputs": [],
   "source": []
  },
  {
   "cell_type": "code",
   "execution_count": null,
   "metadata": {},
   "outputs": [],
   "source": []
  },
  {
   "cell_type": "code",
   "execution_count": null,
   "metadata": {},
   "outputs": [],
   "source": []
  },
  {
   "cell_type": "code",
   "execution_count": null,
   "metadata": {},
   "outputs": [],
   "source": []
  },
  {
   "cell_type": "code",
   "execution_count": null,
   "metadata": {},
   "outputs": [],
   "source": []
  },
  {
   "cell_type": "code",
   "execution_count": null,
   "metadata": {},
   "outputs": [],
   "source": []
  },
  {
   "cell_type": "code",
   "execution_count": null,
   "metadata": {},
   "outputs": [],
   "source": []
  },
  {
   "cell_type": "code",
   "execution_count": null,
   "metadata": {},
   "outputs": [],
   "source": []
  },
  {
   "cell_type": "code",
   "execution_count": null,
   "metadata": {},
   "outputs": [],
   "source": []
  },
  {
   "cell_type": "code",
   "execution_count": null,
   "metadata": {},
   "outputs": [],
   "source": []
  },
  {
   "cell_type": "code",
   "execution_count": null,
   "metadata": {},
   "outputs": [],
   "source": []
  },
  {
   "cell_type": "code",
   "execution_count": null,
   "metadata": {},
   "outputs": [],
   "source": []
  },
  {
   "cell_type": "code",
   "execution_count": null,
   "metadata": {},
   "outputs": [],
   "source": []
  },
  {
   "cell_type": "code",
   "execution_count": null,
   "metadata": {},
   "outputs": [],
   "source": []
  },
  {
   "cell_type": "code",
   "execution_count": null,
   "metadata": {},
   "outputs": [],
   "source": []
  }
 ],
 "metadata": {
  "kernelspec": {
   "display_name": "Python 3",
   "language": "python",
   "name": "python3"
  },
  "language_info": {
   "codemirror_mode": {
    "name": "ipython",
    "version": 3
   },
   "file_extension": ".py",
   "mimetype": "text/x-python",
   "name": "python",
   "nbconvert_exporter": "python",
   "pygments_lexer": "ipython3",
   "version": "3.7.4"
  }
 },
 "nbformat": 4,
 "nbformat_minor": 2
}
